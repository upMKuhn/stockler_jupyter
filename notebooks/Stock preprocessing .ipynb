{
 "cells": [
  {
   "cell_type": "markdown",
   "metadata": {},
   "source": [
    "# Preprocessing of stock data\n",
    "\n",
    "* Fetch raw stock data from influxdb, \n",
    "* Create technical indicators\n",
    "   * moving average 24 hr\n",
    "   * moving average 7 days\n",
    "   * moving average 90 days\n",
    "   * investigate further which KPIs are good? e.g. the Bollinger Bands \n",
    "   * Trend indicators for directions are volume based. E.g. Accumulation Distribution Line, Chaikin Money Flow, the Money Flow Index (MFI) or On Balance Volume (OBV).\n",
    "   * https://school.stockcharts.com/doku.php?id=trading_strategies:bollinger_band_squeeze"
   ]
  },
  {
   "cell_type": "code",
   "execution_count": null,
   "metadata": {},
   "outputs": [],
   "source": [
    "%load_ext autoreload\n",
    "%autoreload 2"
   ]
  },
  {
   "cell_type": "code",
   "execution_count": null,
   "metadata": {},
   "outputs": [],
   "source": [
    "from datetime import datetime\n",
    "import pandas as pd\n",
    "import numpy as np\n",
    "from scipy import stats\n",
    "\n",
    "import plotly.plotly as plotly\n",
    "from plotly.offline import download_plotlyjs, init_notebook_mode, plot, iplot\n",
    "\n",
    "import utils.stockler_influx as db\n",
    "import utils.charting as chart_helper"
   ]
  },
  {
   "cell_type": "markdown",
   "metadata": {},
   "source": [
    "### Fetching stock data from influx\n",
    "We fetch multiple stocks at once. \n",
    "We'll take the candle price data and volume. There are two invervals one is custom and the other is the daily data. "
   ]
  },
  {
   "cell_type": "code",
   "execution_count": null,
   "metadata": {},
   "outputs": [],
   "source": [
    "symbols = ['TSLA', 'XBIO']\n",
    "pattern = '|'.join(symbols)\n",
    "options = {\n",
    "    'symbol_regex':f'/{pattern}/', \n",
    "    'min_date': datetime(2018,2,1)\n",
    "}"
   ]
  },
  {
   "cell_type": "code",
   "execution_count": null,
   "metadata": {},
   "outputs": [],
   "source": [
    "columns = [\n",
    "    \"\"\" MIN(\"low\") as \"low\" \"\"\",\n",
    "    \"\"\" MAX(\"high\") as \"high\" \"\"\",\n",
    "    \"\"\" FIRST(\"average_price\") as \"open\" \"\"\",\n",
    "    \"\"\" LAST(\"average_price\") as \"close\" \"\"\",\n",
    "    \"\"\" SUM(\"volume\") as \"volume\" \"\"\",\n",
    "]\n",
    "raw_1d_data_by_stock = db.select_from_stocks(',\\n'.join(columns), epoch='1d', **options)\n",
    "raw_data_by_stock = db.select_from_stocks(',\\n'.join(columns), epoch='1m', **options)"
   ]
  },
  {
   "cell_type": "markdown",
   "metadata": {},
   "source": [
    "### Plotly    - (Boiler plate settings)"
   ]
  },
  {
   "cell_type": "code",
   "execution_count": null,
   "metadata": {},
   "outputs": [],
   "source": [
    "init_notebook_mode(connected=False)"
   ]
  },
  {
   "cell_type": "markdown",
   "metadata": {},
   "source": [
    "### Add some indicators"
   ]
  },
  {
   "cell_type": "markdown",
   "metadata": {},
   "source": [
    "I'll add a few technical indicators such as the bollinger bands and the simple moving averages.\n",
    "We'll then scale all values to make them as close to 0 as possible.\n",
    "\n",
    "Pricing data's meaning is the % change in stock movement.\n",
    "Bollinger bands are meaningfull to see the risky zone around the simple moving price. Therefore it's \n",
    "the percenatge distance between the moving average and the upper/lower bands.\n",
    "\n",
    "volume: I think the volume compared to the mean daily volume could be intresting. "
   ]
  },
  {
   "cell_type": "code",
   "execution_count": null,
   "metadata": {},
   "outputs": [],
   "source": [
    "indicator_data_by_stock = {}\n",
    "\n",
    "for symbol, data in raw_data_by_stock.items():\n",
    "    data_1d = raw_1d_data_by_stock[symbol]\n",
    "\n",
    "    \n",
    "    bb_df = chart_helper.calculate_bollinger_bands('close', data, 10)\n",
    "    bb_df = bb_df.rename(columns={'avg': 'bb_avg', 'lower': 'bb_low', 'upper': 'bb_high'})\n",
    "\n",
    "    moving_avg_7 = chart_helper.calculate_moving_average('close', data_1d, 7)\n",
    "    moving_avg_7 = moving_avg_7.rename(columns={'average': 'avg_7d'})\n",
    "    \n",
    "    moving_avg_90 = chart_helper.calculate_moving_average('close', data_1d, 90)\n",
    "    moving_avg_90 = moving_avg_90.rename(columns={'average': 'avg_90d'})\n",
    "    moving_avg = pd.concat([moving_avg_7, moving_avg_90], axis=1).dropna()\n",
    "    \n",
    "    normalized_data = pd.concat([data])\n",
    "    normalized_data = pd.concat([normalized_data, bb_df], axis=1).dropna()\n",
    "    normalized_data = normalized_data.join(moving_avg, how='outer').bfill().drop(moving_avg.index).dropna()\n",
    "    normalized_data['volume'] = data['volume']\n",
    "    \n",
    "    #removes outliers\n",
    "    #normalized_data = normalized_data[(np.abs(stats.zscore(normalized_data)) < 3).all(axis=1)]\n",
    "    \n",
    "    print(normalized_data.max())\n",
    "    \n",
    "    indicator_data_by_stock[symbol] = normalized_data\n",
    "print(indicator_data_by_stock.keys())"
   ]
  },
  {
   "cell_type": "code",
   "execution_count": null,
   "metadata": {},
   "outputs": [],
   "source": [
    "for symbol, data in indicator_data_by_stock.items():\n",
    "    file_name = f'{symbol}_{data.index.min().date().isoformat()}_{data.index.max().date().isoformat()}'\n",
    "    file_path = f'~/data/{file_name}.csv'\n",
    "    data.to_csv(file_path, index_label='datetime')\n",
    "    print('exported ' + file_path)"
   ]
  },
  {
   "cell_type": "markdown",
   "metadata": {},
   "source": [
    "\n",
    "### Time to do some plotting"
   ]
  },
  {
   "cell_type": "code",
   "execution_count": null,
   "metadata": {
    "scrolled": false
   },
   "outputs": [],
   "source": [
    "figure = chart_helper.get_figure_with_sub_chart(has_rangeselector=False, y_axis_range=None)\n",
    "\n",
    "for symbol, stock in indicator_data_by_stock.items():\n",
    "\n",
    "    chart_helper.add_candle_chart(\n",
    "        figure, \n",
    "        open=stock.open, \n",
    "        high=stock.high, \n",
    "        low=stock.low, \n",
    "        close=stock.close, \n",
    "        x_data=stock.index,\n",
    "        name=symbol\n",
    "    )\n",
    "\n",
    "    chart_helper.add_bar_chart(\n",
    "        figure, \n",
    "        x_data=stock.index, \n",
    "        y_data=stock.volume, \n",
    "        yaxis='y2', \n",
    "        name=f'Volume_{symbol}'\n",
    "    )\n",
    "\n",
    "    chart_helper.add_scatter_chart(\n",
    "        figure, y_data=stock.bb_high,\n",
    "        x_data=stock.index, name='BB_'+symbol\n",
    "    )\n",
    "    chart_helper.add_scatter_chart(\n",
    "        figure, y_data=stock.bb_low, x_data=stock.index,\n",
    "        name=f'BB_{symbol}', showlegend=False\n",
    "    )\n",
    "    chart_helper.add_scatter_chart(\n",
    "        figure, y_data=stock.bb_avg, x_data=stock.index,\n",
    "        name=f'BB_avg_{symbol}', color='#000'\n",
    "    )\n",
    "    chart_helper.add_scatter_chart(\n",
    "        figure, y_data=stock.avg_7d,\n",
    "        x_data=stock.index, name=f'avg_7_{symbol}', color='#3492B7'\n",
    "    )\n",
    "\n",
    "    chart_helper.add_scatter_chart(\n",
    "        figure, y_data=stock.avg_90d,\n",
    "        x_data=stock.index, name=f'avg_90_{symbol}', color='#3492B7'\n",
    "    )\n",
    "\n",
    "iplot(figure, filename = 'candlestick-test-3', validate = False)"
   ]
  }
 ],
 "metadata": {
  "kernelspec": {
   "display_name": "Python 3",
   "language": "python",
   "name": "python3"
  },
  "language_info": {
   "codemirror_mode": {
    "name": "ipython",
    "version": 3
   },
   "file_extension": ".py",
   "mimetype": "text/x-python",
   "name": "python",
   "nbconvert_exporter": "python",
   "pygments_lexer": "ipython3",
   "version": "3.7.3"
  }
 },
 "nbformat": 4,
 "nbformat_minor": 2
}
