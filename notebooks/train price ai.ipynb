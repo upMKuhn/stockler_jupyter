{
 "cells": [
  {
   "cell_type": "markdown",
   "metadata": {},
   "source": [
    "## Woop Woop! Let's do it!!!\n",
    "\n",
    "Ok so in the \"Stock preprocessing\" Notebook we created a csv file with variouse inidicators \n",
    "and the stock prices. We also scaled the data to be as close to 0 as possible.\n",
    "\n",
    "Now we need to load the csv files, chunk the data into training batch vs validation batch. "
   ]
  },
  {
   "cell_type": "code",
   "execution_count": 1,
   "metadata": {},
   "outputs": [
    {
     "data": {
      "text/html": [
       "\n",
       "        <iframe\n",
       "            width=\"100%\"\n",
       "            height=\"800\"\n",
       "            src=\"http://localhost:6006\"\n",
       "            frameborder=\"0\"\n",
       "            allowfullscreen\n",
       "        ></iframe>\n",
       "        "
      ],
      "text/plain": [
       "<IPython.lib.display.IFrame at 0x7f7b00731908>"
      ]
     },
     "metadata": {},
     "output_type": "display_data"
    }
   ],
   "source": [
    "%load_ext autoreload\n",
    "%autoreload 2\n",
    "%load_ext tensorboard\n",
    "%tensorboard --logdir=../logs"
   ]
  },
  {
   "cell_type": "markdown",
   "metadata": {},
   "source": [
    "The tensorboard is available on: http://localhost:6006"
   ]
  },
  {
   "cell_type": "code",
   "execution_count": 2,
   "metadata": {},
   "outputs": [],
   "source": [
    "from datetime import datetime\n",
    "import pandas as pd\n",
    "import tensorflow as tf\n",
    "from models import train_price_ai as modeling\n",
    "pd.set_option('display.max_columns', 50)"
   ]
  },
  {
   "cell_type": "code",
   "execution_count": 3,
   "metadata": {},
   "outputs": [],
   "source": [
    "data_set_files = [\n",
    "    'symbol__TSLA_2018-08-02_2019-04-30',\n",
    "    'symbol__XBIO_2018-08-02_2019-04-30'\n",
    "]\n",
    "validation_percent = 0.25"
   ]
  },
  {
   "cell_type": "markdown",
   "metadata": {},
   "source": [
    "### Settings"
   ]
  },
  {
   "cell_type": "code",
   "execution_count": 4,
   "metadata": {},
   "outputs": [],
   "source": [
    "data_sets = { file: pd.read_csv(f'../data/{file}.csv') for file in data_set_files } \n",
    "for data in data_sets.values():\n",
    "    data.index = pd.to_datetime(data.index)"
   ]
  },
  {
   "cell_type": "code",
   "execution_count": 5,
   "metadata": {},
   "outputs": [
    {
     "name": "stdout",
     "output_type": "stream",
     "text": [
      "symbol__TSLA_2018-08-02_2019-04-30\n"
     ]
    }
   ],
   "source": [
    "symbol = list(data_sets.keys())[0]\n",
    "print(symbol)"
   ]
  },
  {
   "cell_type": "code",
   "execution_count": 6,
   "metadata": {},
   "outputs": [
    {
     "name": "stdout",
     "output_type": "stream",
     "text": [
      "17\n",
      "18\n",
      "32\n",
      "10\n"
     ]
    }
   ],
   "source": [
    "trainer = modeling.PriceAiTrainer(data_sets)"
   ]
  },
  {
   "cell_type": "code",
   "execution_count": 7,
   "metadata": {
    "scrolled": false
   },
   "outputs": [
    {
     "name": "stderr",
     "output_type": "stream",
     "text": [
      "WARNING: Logging before flag parsing goes to stderr.\n",
      "W0707 22:08:56.168814 140166405388096 deprecation.py:506] From /opt/conda/lib/python3.7/site-packages/tensorflow/python/ops/init_ops.py:1251: calling VarianceScaling.__init__ (from tensorflow.python.ops.init_ops) with dtype is deprecated and will be removed in a future version.\n",
      "Instructions for updating:\n",
      "Call initializer instance with the dtype argument instead of passing it to the constructor\n"
     ]
    }
   ],
   "source": [
    "model = trainer.build_model()"
   ]
  },
  {
   "cell_type": "code",
   "execution_count": 8,
   "metadata": {},
   "outputs": [
    {
     "name": "stderr",
     "output_type": "stream",
     "text": [
      "W0707 22:08:56.832120 140166405388096 deprecation.py:323] From /opt/conda/lib/python3.7/site-packages/tensorflow/python/ops/math_grad.py:1250: add_dispatch_support.<locals>.wrapper (from tensorflow.python.ops.array_ops) is deprecated and will be removed in a future version.\n",
      "Instructions for updating:\n",
      "Use tf.where in 2.0, which has the same broadcast rule as np.where\n"
     ]
    },
    {
     "name": "stdout",
     "output_type": "stream",
     "text": [
      "Train on 1350 samples, validate on 449 samples\n",
      "Epoch 1/220\n",
      "1350/1350 - 18s - loss: 1.9423e-04 - val_loss: 3.7416e-06\n",
      "Epoch 2/220\n",
      "1350/1350 - 17s - loss: 4.1250e-06 - val_loss: 2.3728e-06\n",
      "Epoch 3/220\n",
      "1350/1350 - 26s - loss: 3.6193e-06 - val_loss: 2.4744e-06\n",
      "Epoch 4/220\n",
      "1350/1350 - 24s - loss: 3.5195e-06 - val_loss: 2.5570e-06\n",
      "Epoch 5/220\n",
      "1350/1350 - 30s - loss: 3.6485e-06 - val_loss: 2.7370e-06\n",
      "Epoch 6/220\n",
      "1350/1350 - 16s - loss: 3.6908e-06 - val_loss: 2.5987e-06\n",
      "Epoch 7/220\n",
      "1350/1350 - 16s - loss: 3.6111e-06 - val_loss: 1.1767e-05\n",
      "Epoch 8/220\n",
      "1350/1350 - 28s - loss: 5.3371e-06 - val_loss: 2.4680e-06\n",
      "Epoch 9/220\n",
      "1350/1350 - 29s - loss: 3.8606e-06 - val_loss: 2.5740e-06\n",
      "Epoch 10/220\n",
      "1350/1350 - 20s - loss: 3.7282e-06 - val_loss: 2.6319e-06\n",
      "Epoch 11/220\n",
      "1350/1350 - 16s - loss: 3.6888e-06 - val_loss: 2.7191e-06\n",
      "Epoch 12/220\n",
      "1350/1350 - 26s - loss: 3.7899e-06 - val_loss: 2.8227e-06\n",
      "Epoch 13/220\n",
      "1350/1350 - 16s - loss: 3.8379e-06 - val_loss: 3.2253e-06\n",
      "Epoch 14/220\n",
      "1350/1350 - 28s - loss: 3.8490e-06 - val_loss: 2.4461e-06\n",
      "Epoch 15/220\n",
      "1350/1350 - 20s - loss: 3.6895e-06 - val_loss: 2.7754e-06\n",
      "Epoch 16/220\n",
      "1350/1350 - 30s - loss: 3.8904e-06 - val_loss: 2.6560e-06\n",
      "Epoch 17/220\n",
      "1350/1350 - 28s - loss: 3.8092e-06 - val_loss: 2.6725e-06\n",
      "Epoch 18/220\n",
      "1350/1350 - 27s - loss: 3.7519e-06 - val_loss: 2.9227e-06\n",
      "Epoch 19/220\n",
      "1350/1350 - 16s - loss: 3.7953e-06 - val_loss: 5.3931e-06\n",
      "Epoch 20/220\n",
      "1350/1350 - 24s - loss: 4.4326e-06 - val_loss: 2.7547e-06\n",
      "Epoch 21/220\n",
      "1350/1350 - 16s - loss: 3.8012e-06 - val_loss: 3.2509e-06\n",
      "Epoch 22/220\n",
      "1350/1350 - 16s - loss: 3.8202e-06 - val_loss: 3.1871e-06\n",
      "Epoch 23/220\n",
      "1350/1350 - 16s - loss: 3.9010e-06 - val_loss: 2.6224e-06\n",
      "Epoch 24/220\n",
      "1350/1350 - 17s - loss: 3.7690e-06 - val_loss: 3.2801e-06\n",
      "Epoch 25/220\n",
      "1350/1350 - 16s - loss: 3.9923e-06 - val_loss: 3.0528e-06\n",
      "Epoch 26/220\n",
      "1350/1350 - 17s - loss: 3.7972e-06 - val_loss: 2.6803e-06\n",
      "Epoch 27/220\n",
      "1350/1350 - 17s - loss: 3.7705e-06 - val_loss: 2.4366e-06\n",
      "Epoch 28/220\n",
      "1350/1350 - 17s - loss: 3.7159e-06 - val_loss: 2.8223e-06\n",
      "Epoch 29/220\n",
      "1350/1350 - 17s - loss: 3.8603e-06 - val_loss: 3.1589e-06\n",
      "Epoch 30/220\n",
      "1350/1350 - 16s - loss: 3.9030e-06 - val_loss: 2.7371e-06\n",
      "Epoch 31/220\n",
      "1350/1350 - 16s - loss: 4.0408e-06 - val_loss: 2.7281e-06\n",
      "Epoch 32/220\n",
      "1350/1350 - 16s - loss: 3.9822e-06 - val_loss: 2.6763e-06\n",
      "Epoch 33/220\n",
      "1350/1350 - 17s - loss: 3.9109e-06 - val_loss: 2.8122e-06\n",
      "Epoch 34/220\n",
      "1350/1350 - 16s - loss: 3.9043e-06 - val_loss: 2.9936e-06\n",
      "Epoch 35/220\n",
      "1350/1350 - 16s - loss: 3.8175e-06 - val_loss: 3.2514e-06\n",
      "Epoch 36/220\n",
      "1350/1350 - 17s - loss: 3.8839e-06 - val_loss: 3.0624e-06\n",
      "Epoch 37/220\n",
      "1350/1350 - 17s - loss: 3.8914e-06 - val_loss: 3.1444e-06\n",
      "Epoch 38/220\n",
      "1350/1350 - 18s - loss: 3.7782e-06 - val_loss: 1.1112e-05\n",
      "Epoch 39/220\n",
      "1350/1350 - 18s - loss: 5.4486e-06 - val_loss: 3.0069e-06\n",
      "Epoch 40/220\n",
      "1350/1350 - 17s - loss: 3.8486e-06 - val_loss: 2.7311e-06\n",
      "Epoch 41/220\n",
      "1350/1350 - 17s - loss: 3.7928e-06 - val_loss: 3.1426e-06\n",
      "Epoch 42/220\n",
      "1350/1350 - 17s - loss: 3.8705e-06 - val_loss: 2.6949e-06\n",
      "Epoch 43/220\n",
      "1350/1350 - 17s - loss: 3.7556e-06 - val_loss: 2.5384e-06\n",
      "Epoch 44/220\n",
      "1350/1350 - 16s - loss: 3.7791e-06 - val_loss: 2.8215e-06\n",
      "Epoch 45/220\n",
      "1350/1350 - 16s - loss: 3.7595e-06 - val_loss: 2.7183e-06\n",
      "Epoch 46/220\n",
      "1350/1350 - 19s - loss: 3.7950e-06 - val_loss: 3.8872e-06\n",
      "Epoch 47/220\n",
      "1350/1350 - 18s - loss: 3.9242e-06 - val_loss: 2.7209e-06\n",
      "Epoch 48/220\n",
      "1350/1350 - 18s - loss: 3.7785e-06 - val_loss: 2.8112e-06\n",
      "Epoch 49/220\n",
      "1350/1350 - 18s - loss: 3.6857e-06 - val_loss: 2.4878e-06\n",
      "Epoch 50/220\n",
      "1350/1350 - 18s - loss: 3.6400e-06 - val_loss: 2.7095e-06\n",
      "Epoch 51/220\n",
      "1350/1350 - 17s - loss: 3.7068e-06 - val_loss: 2.4810e-06\n",
      "Epoch 52/220\n",
      "1350/1350 - 15s - loss: 3.8364e-06 - val_loss: 2.6390e-06\n",
      "Epoch 53/220\n",
      "1350/1350 - 16s - loss: 3.7210e-06 - val_loss: 2.5561e-06\n",
      "Epoch 54/220\n",
      "1350/1350 - 16s - loss: 3.7476e-06 - val_loss: 2.7790e-06\n",
      "Epoch 55/220\n",
      "1350/1350 - 17s - loss: 3.8406e-06 - val_loss: 2.7733e-06\n",
      "Epoch 56/220\n",
      "1350/1350 - 16s - loss: 3.7733e-06 - val_loss: 2.9004e-06\n",
      "Epoch 57/220\n",
      "1350/1350 - 16s - loss: 3.7865e-06 - val_loss: 2.9276e-06\n",
      "Epoch 58/220\n",
      "1350/1350 - 16s - loss: 3.7615e-06 - val_loss: 2.5898e-06\n",
      "Epoch 59/220\n",
      "1350/1350 - 16s - loss: 3.6867e-06 - val_loss: 2.6580e-06\n",
      "Epoch 60/220\n",
      "1350/1350 - 16s - loss: 3.7578e-06 - val_loss: 2.7523e-06\n",
      "Epoch 61/220\n",
      "1350/1350 - 17s - loss: 3.7180e-06 - val_loss: 2.8313e-06\n",
      "Epoch 62/220\n",
      "1350/1350 - 15s - loss: 3.7079e-06 - val_loss: 2.7804e-06\n",
      "Epoch 63/220\n",
      "1350/1350 - 16s - loss: 3.7297e-06 - val_loss: 2.8252e-06\n",
      "Epoch 64/220\n",
      "1350/1350 - 16s - loss: 3.7094e-06 - val_loss: 2.8734e-06\n",
      "Epoch 65/220\n",
      "1350/1350 - 16s - loss: 3.7318e-06 - val_loss: 2.9176e-06\n",
      "Epoch 66/220\n",
      "1350/1350 - 16s - loss: 3.7035e-06 - val_loss: 2.6968e-06\n",
      "Epoch 67/220\n"
     ]
    },
    {
     "ename": "KeyboardInterrupt",
     "evalue": "",
     "output_type": "error",
     "traceback": [
      "\u001b[0;31m---------------------------------------------------------------------------\u001b[0m",
      "\u001b[0;31mKeyboardInterrupt\u001b[0m                         Traceback (most recent call last)",
      "\u001b[0;32m<ipython-input-8-1dbcf1ed89e6>\u001b[0m in \u001b[0;36m<module>\u001b[0;34m\u001b[0m\n\u001b[0;32m----> 1\u001b[0;31m \u001b[0mhistory\u001b[0m \u001b[0;34m=\u001b[0m \u001b[0mtrainer\u001b[0m\u001b[0;34m.\u001b[0m\u001b[0mtrain\u001b[0m\u001b[0;34m(\u001b[0m\u001b[0mmodel\u001b[0m\u001b[0;34m,\u001b[0m \u001b[0msymbol\u001b[0m\u001b[0;34m)\u001b[0m\u001b[0;34m\u001b[0m\u001b[0;34m\u001b[0m\u001b[0m\n\u001b[0m",
      "\u001b[0;32m~/src/models/train_price_ai.py\u001b[0m in \u001b[0;36mtrain\u001b[0;34m(self, model, symbol, epochs)\u001b[0m\n\u001b[1;32m     60\u001b[0m         history = model.fit(\n\u001b[1;32m     61\u001b[0m             \u001b[0mx_train\u001b[0m\u001b[0;34m,\u001b[0m \u001b[0my_train\u001b[0m\u001b[0;34m,\u001b[0m \u001b[0mepochs\u001b[0m\u001b[0;34m=\u001b[0m\u001b[0mepochs\u001b[0m\u001b[0;34m,\u001b[0m \u001b[0mvalidation_data\u001b[0m\u001b[0;34m=\u001b[0m\u001b[0;34m(\u001b[0m\u001b[0mx_validate\u001b[0m\u001b[0;34m,\u001b[0m \u001b[0my_validate\u001b[0m\u001b[0;34m)\u001b[0m\u001b[0;34m,\u001b[0m \u001b[0mshuffle\u001b[0m\u001b[0;34m=\u001b[0m\u001b[0;32mTrue\u001b[0m\u001b[0;34m,\u001b[0m\u001b[0;34m\u001b[0m\u001b[0;34m\u001b[0m\u001b[0m\n\u001b[0;32m---> 62\u001b[0;31m             \u001b[0mverbose\u001b[0m\u001b[0;34m=\u001b[0m\u001b[0;36m2\u001b[0m\u001b[0;34m,\u001b[0m \u001b[0mcallbacks\u001b[0m\u001b[0;34m=\u001b[0m\u001b[0;34m[\u001b[0m\u001b[0mself\u001b[0m\u001b[0;34m.\u001b[0m\u001b[0mtf_board\u001b[0m\u001b[0;34m]\u001b[0m\u001b[0;34m\u001b[0m\u001b[0;34m\u001b[0m\u001b[0m\n\u001b[0m\u001b[1;32m     63\u001b[0m         )\n\u001b[1;32m     64\u001b[0m         \u001b[0mmodel\u001b[0m\u001b[0;34m.\u001b[0m\u001b[0msave\u001b[0m\u001b[0;34m(\u001b[0m\u001b[0;34m'../models/price_ai__{}'\u001b[0m\u001b[0;34m.\u001b[0m\u001b[0mformat\u001b[0m\u001b[0;34m(\u001b[0m\u001b[0mdatetime\u001b[0m\u001b[0;34m.\u001b[0m\u001b[0mnow\u001b[0m\u001b[0;34m(\u001b[0m\u001b[0;34m)\u001b[0m\u001b[0;34m.\u001b[0m\u001b[0misoformat\u001b[0m\u001b[0;34m(\u001b[0m\u001b[0;34m)\u001b[0m\u001b[0;34m)\u001b[0m\u001b[0;34m)\u001b[0m\u001b[0;34m\u001b[0m\u001b[0;34m\u001b[0m\u001b[0m\n",
      "\u001b[0;32m/opt/conda/lib/python3.7/site-packages/tensorflow/python/keras/engine/training.py\u001b[0m in \u001b[0;36mfit\u001b[0;34m(self, x, y, batch_size, epochs, verbose, callbacks, validation_split, validation_data, shuffle, class_weight, sample_weight, initial_epoch, steps_per_epoch, validation_steps, validation_freq, max_queue_size, workers, use_multiprocessing, **kwargs)\u001b[0m\n\u001b[1;32m    778\u001b[0m           \u001b[0mvalidation_steps\u001b[0m\u001b[0;34m=\u001b[0m\u001b[0mvalidation_steps\u001b[0m\u001b[0;34m,\u001b[0m\u001b[0;34m\u001b[0m\u001b[0;34m\u001b[0m\u001b[0m\n\u001b[1;32m    779\u001b[0m           \u001b[0mvalidation_freq\u001b[0m\u001b[0;34m=\u001b[0m\u001b[0mvalidation_freq\u001b[0m\u001b[0;34m,\u001b[0m\u001b[0;34m\u001b[0m\u001b[0;34m\u001b[0m\u001b[0m\n\u001b[0;32m--> 780\u001b[0;31m           steps_name='steps_per_epoch')\n\u001b[0m\u001b[1;32m    781\u001b[0m \u001b[0;34m\u001b[0m\u001b[0m\n\u001b[1;32m    782\u001b[0m   def evaluate(self,\n",
      "\u001b[0;32m/opt/conda/lib/python3.7/site-packages/tensorflow/python/keras/engine/training_arrays.py\u001b[0m in \u001b[0;36mmodel_iteration\u001b[0;34m(model, inputs, targets, sample_weights, batch_size, epochs, verbose, callbacks, val_inputs, val_targets, val_sample_weights, shuffle, initial_epoch, steps_per_epoch, validation_steps, validation_freq, mode, validation_in_fit, prepared_feed_values_from_dataset, steps_name, **kwargs)\u001b[0m\n\u001b[1;32m    361\u001b[0m \u001b[0;34m\u001b[0m\u001b[0m\n\u001b[1;32m    362\u001b[0m         \u001b[0;31m# Get outputs.\u001b[0m\u001b[0;34m\u001b[0m\u001b[0;34m\u001b[0m\u001b[0;34m\u001b[0m\u001b[0m\n\u001b[0;32m--> 363\u001b[0;31m         \u001b[0mbatch_outs\u001b[0m \u001b[0;34m=\u001b[0m \u001b[0mf\u001b[0m\u001b[0;34m(\u001b[0m\u001b[0mins_batch\u001b[0m\u001b[0;34m)\u001b[0m\u001b[0;34m\u001b[0m\u001b[0;34m\u001b[0m\u001b[0m\n\u001b[0m\u001b[1;32m    364\u001b[0m         \u001b[0;32mif\u001b[0m \u001b[0;32mnot\u001b[0m \u001b[0misinstance\u001b[0m\u001b[0;34m(\u001b[0m\u001b[0mbatch_outs\u001b[0m\u001b[0;34m,\u001b[0m \u001b[0mlist\u001b[0m\u001b[0;34m)\u001b[0m\u001b[0;34m:\u001b[0m\u001b[0;34m\u001b[0m\u001b[0;34m\u001b[0m\u001b[0m\n\u001b[1;32m    365\u001b[0m           \u001b[0mbatch_outs\u001b[0m \u001b[0;34m=\u001b[0m \u001b[0;34m[\u001b[0m\u001b[0mbatch_outs\u001b[0m\u001b[0;34m]\u001b[0m\u001b[0;34m\u001b[0m\u001b[0;34m\u001b[0m\u001b[0m\n",
      "\u001b[0;32m/opt/conda/lib/python3.7/site-packages/tensorflow/python/keras/backend.py\u001b[0m in \u001b[0;36m__call__\u001b[0;34m(self, inputs)\u001b[0m\n\u001b[1;32m   3290\u001b[0m \u001b[0;34m\u001b[0m\u001b[0m\n\u001b[1;32m   3291\u001b[0m     fetched = self._callable_fn(*array_vals,\n\u001b[0;32m-> 3292\u001b[0;31m                                 run_metadata=self.run_metadata)\n\u001b[0m\u001b[1;32m   3293\u001b[0m     \u001b[0mself\u001b[0m\u001b[0;34m.\u001b[0m\u001b[0m_call_fetch_callbacks\u001b[0m\u001b[0;34m(\u001b[0m\u001b[0mfetched\u001b[0m\u001b[0;34m[\u001b[0m\u001b[0;34m-\u001b[0m\u001b[0mlen\u001b[0m\u001b[0;34m(\u001b[0m\u001b[0mself\u001b[0m\u001b[0;34m.\u001b[0m\u001b[0m_fetches\u001b[0m\u001b[0;34m)\u001b[0m\u001b[0;34m:\u001b[0m\u001b[0;34m]\u001b[0m\u001b[0;34m)\u001b[0m\u001b[0;34m\u001b[0m\u001b[0;34m\u001b[0m\u001b[0m\n\u001b[1;32m   3294\u001b[0m     output_structure = nest.pack_sequence_as(\n",
      "\u001b[0;32m/opt/conda/lib/python3.7/site-packages/tensorflow/python/client/session.py\u001b[0m in \u001b[0;36m__call__\u001b[0;34m(self, *args, **kwargs)\u001b[0m\n\u001b[1;32m   1456\u001b[0m         ret = tf_session.TF_SessionRunCallable(self._session._session,\n\u001b[1;32m   1457\u001b[0m                                                \u001b[0mself\u001b[0m\u001b[0;34m.\u001b[0m\u001b[0m_handle\u001b[0m\u001b[0;34m,\u001b[0m \u001b[0margs\u001b[0m\u001b[0;34m,\u001b[0m\u001b[0;34m\u001b[0m\u001b[0;34m\u001b[0m\u001b[0m\n\u001b[0;32m-> 1458\u001b[0;31m                                                run_metadata_ptr)\n\u001b[0m\u001b[1;32m   1459\u001b[0m         \u001b[0;32mif\u001b[0m \u001b[0mrun_metadata\u001b[0m\u001b[0;34m:\u001b[0m\u001b[0;34m\u001b[0m\u001b[0;34m\u001b[0m\u001b[0m\n\u001b[1;32m   1460\u001b[0m           \u001b[0mproto_data\u001b[0m \u001b[0;34m=\u001b[0m \u001b[0mtf_session\u001b[0m\u001b[0;34m.\u001b[0m\u001b[0mTF_GetBuffer\u001b[0m\u001b[0;34m(\u001b[0m\u001b[0mrun_metadata_ptr\u001b[0m\u001b[0;34m)\u001b[0m\u001b[0;34m\u001b[0m\u001b[0;34m\u001b[0m\u001b[0m\n",
      "\u001b[0;31mKeyboardInterrupt\u001b[0m: "
     ]
    }
   ],
   "source": [
    "history = trainer.train(model, symbol)"
   ]
  },
  {
   "cell_type": "code",
   "execution_count": null,
   "metadata": {},
   "outputs": [],
   "source": [
    "print(history)"
   ]
  }
 ],
 "metadata": {
  "kernelspec": {
   "display_name": "Python 3",
   "language": "python",
   "name": "python3"
  },
  "language_info": {
   "codemirror_mode": {
    "name": "ipython",
    "version": 3
   },
   "file_extension": ".py",
   "mimetype": "text/x-python",
   "name": "python",
   "nbconvert_exporter": "python",
   "pygments_lexer": "ipython3",
   "version": "3.7.3"
  }
 },
 "nbformat": 4,
 "nbformat_minor": 2
}
