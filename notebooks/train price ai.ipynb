{
 "cells": [
  {
   "cell_type": "markdown",
   "metadata": {},
   "source": [
    "## Woop Woop! Let's do it!!!\n",
    "\n",
    "Ok so in the \"Stock preprocessing\" Notebook we created a csv file with variouse inidicators \n",
    "and the stock prices. We also scaled the data to be as close to 0 as possible.\n",
    "\n",
    "Now we need to load the csv files, chunk the data into training batch vs validation batch. "
   ]
  },
  {
   "cell_type": "code",
   "execution_count": null,
   "metadata": {},
   "outputs": [],
   "source": [
    "%load_ext autoreload\n",
    "%autoreload 2\n",
    "%load_ext tensorboard\n",
    "%tensorboard\n",
    "\n",
    "summary_writer = tf.train.SummaryWriter('/tensorflow/logdir', sess.graph_def)"
   ]
  },
  {
   "cell_type": "markdown",
   "metadata": {},
   "source": [
    "The tensorboard is available on: http://localhost:6006"
   ]
  },
  {
   "cell_type": "code",
   "execution_count": 4,
   "metadata": {},
   "outputs": [],
   "source": [
    "from datetime import datetime\n",
    "import pandas as pd\n",
    "import tensorflow as tf\n",
    "from models import train_price_ai as modeling\n",
    "pd.set_option('display.max_columns', 50)"
   ]
  },
  {
   "cell_type": "code",
   "execution_count": 5,
   "metadata": {},
   "outputs": [
    {
     "ename": "AttributeError",
     "evalue": "module 'tensorflow._api.v1.summary' has no attribute 'create_file_writer'",
     "output_type": "error",
     "traceback": [
      "\u001b[0;31m---------------------------------------------------------------------------\u001b[0m",
      "\u001b[0;31mAttributeError\u001b[0m                            Traceback (most recent call last)",
      "\u001b[0;32m<ipython-input-5-0f72ff3123da>\u001b[0m in \u001b[0;36m<module>\u001b[0;34m\u001b[0m\n\u001b[1;32m      5\u001b[0m \u001b[0mlogdir\u001b[0m \u001b[0;34m=\u001b[0m \u001b[0;34m\"logs/train_data/\"\u001b[0m \u001b[0;34m+\u001b[0m \u001b[0mdatetime\u001b[0m\u001b[0;34m.\u001b[0m\u001b[0mnow\u001b[0m\u001b[0;34m(\u001b[0m\u001b[0;34m)\u001b[0m\u001b[0;34m.\u001b[0m\u001b[0mstrftime\u001b[0m\u001b[0;34m(\u001b[0m\u001b[0;34m\"%Y%m%d-%H%M%S\"\u001b[0m\u001b[0;34m)\u001b[0m\u001b[0;34m\u001b[0m\u001b[0;34m\u001b[0m\u001b[0m\n\u001b[1;32m      6\u001b[0m \u001b[0;31m# Creates a file writer for the log directory.\u001b[0m\u001b[0;34m\u001b[0m\u001b[0;34m\u001b[0m\u001b[0;34m\u001b[0m\u001b[0m\n\u001b[0;32m----> 7\u001b[0;31m \u001b[0mfile_writer\u001b[0m \u001b[0;34m=\u001b[0m \u001b[0mtf\u001b[0m\u001b[0;34m.\u001b[0m\u001b[0msummary\u001b[0m\u001b[0;34m.\u001b[0m\u001b[0mcreate_file_writer\u001b[0m\u001b[0;34m(\u001b[0m\u001b[0mlogdir\u001b[0m\u001b[0;34m)\u001b[0m\u001b[0;34m\u001b[0m\u001b[0;34m\u001b[0m\u001b[0m\n\u001b[0m\u001b[1;32m      8\u001b[0m \u001b[0;34m\u001b[0m\u001b[0m\n\u001b[1;32m      9\u001b[0m \u001b[0;31m# Using the file writer, log the reshaped image.\u001b[0m\u001b[0;34m\u001b[0m\u001b[0;34m\u001b[0m\u001b[0;34m\u001b[0m\u001b[0m\n",
      "\u001b[0;32m/opt/conda/lib/python3.7/site-packages/tensorflow/python/util/deprecation_wrapper.py\u001b[0m in \u001b[0;36m__getattr__\u001b[0;34m(self, name)\u001b[0m\n\u001b[1;32m    104\u001b[0m     \u001b[0;32mif\u001b[0m \u001b[0mname\u001b[0m\u001b[0;34m.\u001b[0m\u001b[0mstartswith\u001b[0m\u001b[0;34m(\u001b[0m\u001b[0;34m'_dw_'\u001b[0m\u001b[0;34m)\u001b[0m\u001b[0;34m:\u001b[0m\u001b[0;34m\u001b[0m\u001b[0;34m\u001b[0m\u001b[0m\n\u001b[1;32m    105\u001b[0m       \u001b[0;32mraise\u001b[0m \u001b[0mAttributeError\u001b[0m\u001b[0;34m(\u001b[0m\u001b[0;34m'Accessing local variables before they are created.'\u001b[0m\u001b[0;34m)\u001b[0m\u001b[0;34m\u001b[0m\u001b[0;34m\u001b[0m\u001b[0m\n\u001b[0;32m--> 106\u001b[0;31m     \u001b[0mattr\u001b[0m \u001b[0;34m=\u001b[0m \u001b[0mgetattr\u001b[0m\u001b[0;34m(\u001b[0m\u001b[0mself\u001b[0m\u001b[0;34m.\u001b[0m\u001b[0m_dw_wrapped_module\u001b[0m\u001b[0;34m,\u001b[0m \u001b[0mname\u001b[0m\u001b[0;34m)\u001b[0m\u001b[0;34m\u001b[0m\u001b[0;34m\u001b[0m\u001b[0m\n\u001b[0m\u001b[1;32m    107\u001b[0m     if (self._dw_warning_count < _PER_MODULE_WARNING_LIMIT and\n\u001b[1;32m    108\u001b[0m         name not in self._dw_deprecated_printed):\n",
      "\u001b[0;31mAttributeError\u001b[0m: module 'tensorflow._api.v1.summary' has no attribute 'create_file_writer'"
     ]
    }
   ],
   "source": [
    "# Clear out any prior log data.\n",
    "!rm -rf logs\n",
    "\n",
    "# Sets up a timestamped log directory.\n",
    "logdir = \"logs/train_data/\" + datetime.now().strftime(\"%Y%m%d-%H%M%S\")\n",
    "# Creates a file writer for the log directory.\n",
    "file_writer = tf.summary.create_file_writer(logdir)\n",
    "\n",
    "# Using the file writer, log the reshaped image.\n",
    "with file_writer.as_default():\n",
    "  tf.summary.image(\"Training data\", img, step=0)"
   ]
  },
  {
   "cell_type": "code",
   "execution_count": 5,
   "metadata": {},
   "outputs": [],
   "source": [
    "data_set_files = [\n",
    "    'symbol__TSLA_2018-08-02_2019-04-30',\n",
    "    'symbol__XBIO_2018-08-02_2019-04-30'\n",
    "]\n",
    "validation_percent = 0.25"
   ]
  },
  {
   "cell_type": "markdown",
   "metadata": {},
   "source": [
    "### Settings"
   ]
  },
  {
   "cell_type": "code",
   "execution_count": 10,
   "metadata": {},
   "outputs": [],
   "source": [
    "data_sets = { file: pd.read_csv(f'../data/{file}.csv') for file in data_set_files } \n",
    "for data in data_sets.values():\n",
    "    data.index = pd.to_datetime(data.index)"
   ]
  },
  {
   "cell_type": "code",
   "execution_count": 11,
   "metadata": {},
   "outputs": [
    {
     "name": "stdout",
     "output_type": "stream",
     "text": [
      "symbol__TSLA_2018-08-02_2019-04-30\n"
     ]
    }
   ],
   "source": [
    "symbol = list(data_sets.keys())[0]\n",
    "print(symbol)"
   ]
  },
  {
   "cell_type": "code",
   "execution_count": 12,
   "metadata": {},
   "outputs": [
    {
     "name": "stdout",
     "output_type": "stream",
     "text": [
      "17\n",
      "18\n",
      "32\n",
      "10\n"
     ]
    }
   ],
   "source": [
    "trainer = modeling.PriceAiTrainer(data_sets)"
   ]
  },
  {
   "cell_type": "code",
   "execution_count": 13,
   "metadata": {
    "scrolled": false
   },
   "outputs": [],
   "source": [
    "model = trainer.build_model()"
   ]
  },
  {
   "cell_type": "code",
   "execution_count": null,
   "metadata": {},
   "outputs": [
    {
     "name": "stderr",
     "output_type": "stream",
     "text": [
      "W0707 21:09:47.152916 140085839181632 deprecation.py:323] From /opt/conda/lib/python3.7/site-packages/tensorflow/python/ops/math_grad.py:1250: add_dispatch_support.<locals>.wrapper (from tensorflow.python.ops.array_ops) is deprecated and will be removed in a future version.\n",
      "Instructions for updating:\n",
      "Use tf.where in 2.0, which has the same broadcast rule as np.where\n"
     ]
    },
    {
     "name": "stdout",
     "output_type": "stream",
     "text": [
      "Train on 1351 samples, validate on 450 samples\n",
      "Epoch 1/220\n",
      "1351/1351 - 18s - loss: 2.2642e-04 - val_loss: 4.3548e-06\n",
      "Epoch 2/220\n",
      "1351/1351 - 15s - loss: 4.3184e-06 - val_loss: 2.3467e-06\n",
      "Epoch 3/220\n",
      "1351/1351 - 16s - loss: 3.5979e-06 - val_loss: 2.3847e-06\n",
      "Epoch 4/220\n",
      "1351/1351 - 16s - loss: 3.5723e-06 - val_loss: 2.4008e-06\n",
      "Epoch 5/220\n",
      "1351/1351 - 16s - loss: 3.5551e-06 - val_loss: 2.3822e-06\n",
      "Epoch 6/220\n",
      "1351/1351 - 15s - loss: 3.5647e-06 - val_loss: 2.4629e-06\n",
      "Epoch 7/220\n",
      "1351/1351 - 15s - loss: 3.5320e-06 - val_loss: 2.9466e-06\n",
      "Epoch 8/220\n",
      "1351/1351 - 15s - loss: 3.6734e-06 - val_loss: 2.5374e-06\n",
      "Epoch 9/220\n",
      "1351/1351 - 15s - loss: 3.4951e-06 - val_loss: 2.5133e-06\n",
      "Epoch 10/220\n",
      "1351/1351 - 16s - loss: 3.5545e-06 - val_loss: 2.6160e-06\n",
      "Epoch 11/220\n",
      "1351/1351 - 16s - loss: 3.5361e-06 - val_loss: 2.4904e-06\n",
      "Epoch 12/220\n",
      "1351/1351 - 17s - loss: 3.5397e-06 - val_loss: 2.6452e-06\n",
      "Epoch 13/220\n",
      "1351/1351 - 16s - loss: 3.5291e-06 - val_loss: 2.6365e-06\n",
      "Epoch 14/220\n",
      "1351/1351 - 16s - loss: 3.6239e-06 - val_loss: 2.7240e-06\n",
      "Epoch 15/220\n",
      "1351/1351 - 16s - loss: 3.5473e-06 - val_loss: 2.5721e-06\n",
      "Epoch 16/220\n",
      "1351/1351 - 17s - loss: 3.6076e-06 - val_loss: 3.7727e-06\n",
      "Epoch 17/220\n",
      "1351/1351 - 17s - loss: 3.6339e-06 - val_loss: 2.6257e-06\n",
      "Epoch 18/220\n",
      "1351/1351 - 17s - loss: 3.5350e-06 - val_loss: 2.6960e-06\n",
      "Epoch 19/220\n",
      "1351/1351 - 16s - loss: 3.5671e-06 - val_loss: 3.0182e-06\n",
      "Epoch 20/220\n",
      "1351/1351 - 16s - loss: 3.6104e-06 - val_loss: 3.0143e-06\n",
      "Epoch 21/220\n",
      "1351/1351 - 16s - loss: 3.4661e-06 - val_loss: 3.1199e-06\n",
      "Epoch 22/220\n",
      "1351/1351 - 16s - loss: 3.5590e-06 - val_loss: 2.7407e-06\n",
      "Epoch 23/220\n",
      "1351/1351 - 16s - loss: 3.4618e-06 - val_loss: 2.8507e-06\n",
      "Epoch 24/220\n",
      "1351/1351 - 16s - loss: 3.5876e-06 - val_loss: 3.0545e-06\n",
      "Epoch 25/220\n",
      "1351/1351 - 16s - loss: 3.5427e-06 - val_loss: 2.6386e-06\n",
      "Epoch 26/220\n",
      "1351/1351 - 16s - loss: 3.5288e-06 - val_loss: 3.4427e-06\n",
      "Epoch 27/220\n",
      "1351/1351 - 16s - loss: 3.6025e-06 - val_loss: 3.0826e-06\n",
      "Epoch 28/220\n",
      "1351/1351 - 16s - loss: 3.3675e-06 - val_loss: 3.0630e-06\n",
      "Epoch 29/220\n",
      "1351/1351 - 16s - loss: 3.5376e-06 - val_loss: 3.2433e-06\n",
      "Epoch 30/220\n",
      "1351/1351 - 16s - loss: 3.5297e-06 - val_loss: 3.0525e-06\n",
      "Epoch 31/220\n",
      "1351/1351 - 16s - loss: 3.4530e-06 - val_loss: 3.2035e-06\n",
      "Epoch 32/220\n",
      "1351/1351 - 16s - loss: 3.3935e-06 - val_loss: 2.9026e-06\n",
      "Epoch 33/220\n",
      "1351/1351 - 16s - loss: 3.3432e-06 - val_loss: 2.7873e-06\n",
      "Epoch 34/220\n",
      "1351/1351 - 16s - loss: 3.3195e-06 - val_loss: 3.8563e-06\n",
      "Epoch 35/220\n",
      "1351/1351 - 15s - loss: 3.5970e-06 - val_loss: 2.7549e-06\n",
      "Epoch 36/220\n",
      "1351/1351 - 15s - loss: 3.4176e-06 - val_loss: 2.7281e-06\n",
      "Epoch 37/220\n",
      "1351/1351 - 15s - loss: 3.2281e-06 - val_loss: 2.5085e-06\n",
      "Epoch 38/220\n",
      "1351/1351 - 15s - loss: 3.2256e-06 - val_loss: 3.2426e-06\n",
      "Epoch 39/220\n",
      "1351/1351 - 16s - loss: 3.3962e-06 - val_loss: 2.9424e-06\n",
      "Epoch 40/220\n",
      "1351/1351 - 17s - loss: 3.3519e-06 - val_loss: 2.7974e-06\n",
      "Epoch 41/220\n",
      "1351/1351 - 16s - loss: 3.1549e-06 - val_loss: 2.9908e-06\n",
      "Epoch 42/220\n",
      "1351/1351 - 17s - loss: 3.1345e-06 - val_loss: 2.6996e-06\n",
      "Epoch 43/220\n",
      "1351/1351 - 16s - loss: 3.2787e-06 - val_loss: 3.4456e-06\n",
      "Epoch 44/220\n",
      "1351/1351 - 16s - loss: 3.1767e-06 - val_loss: 2.7374e-06\n",
      "Epoch 45/220\n"
     ]
    }
   ],
   "source": [
    "history = trainer.train(model, symbol)"
   ]
  },
  {
   "cell_type": "code",
   "execution_count": null,
   "metadata": {},
   "outputs": [],
   "source": [
    "print(history)"
   ]
  }
 ],
 "metadata": {
  "kernelspec": {
   "display_name": "Python 3",
   "language": "python",
   "name": "python3"
  },
  "language_info": {
   "codemirror_mode": {
    "name": "ipython",
    "version": 3
   },
   "file_extension": ".py",
   "mimetype": "text/x-python",
   "name": "python",
   "nbconvert_exporter": "python",
   "pygments_lexer": "ipython3",
   "version": "3.7.3"
  }
 },
 "nbformat": 4,
 "nbformat_minor": 2
}
